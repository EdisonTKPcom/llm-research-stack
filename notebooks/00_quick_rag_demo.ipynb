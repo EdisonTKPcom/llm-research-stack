{
  "cells": [
    {
      "cell_type": "markdown",
      "metadata": {},
      "source": [
        "# Quick RAG Demo\nRun the API and test retrieval."
      ]
    },
    {
      "cell_type": "code",
      "metadata": {},
      "execution_count": null,
      "outputs": [],
      "source": [
        "from binance_llm.rag.rag_chain import RAGChain\n",
        "rc = RAGChain()\n",
        "rc.ingest(collection='academy', docs_dir='data/sample_docs')\n",
        "rc.answer('What is funding rate?')"
      ]
    }
  ],
  "metadata": {
    "kernelspec": {
      "display_name": "Python 3",
      "language": "python",
      "name": "python3"
    }
  },
  "nbformat": 4,
  "nbformat_minor": 5
}